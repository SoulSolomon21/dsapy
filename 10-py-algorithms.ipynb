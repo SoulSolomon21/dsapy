{
 "cells": [
  {
   "cell_type": "markdown",
   "metadata": {},
   "source": [
    "# Algorithms: Searching and Sorting"
   ]
  },
  {
   "cell_type": "markdown",
   "metadata": {},
   "source": [
    "## Searching"
   ]
  },
  {
   "cell_type": "markdown",
   "metadata": {},
   "source": [
    "We can implement linear search by checking each element in a list: "
   ]
  },
  {
   "cell_type": "code",
   "execution_count": 5,
   "metadata": {},
   "outputs": [
    {
     "name": "stdout",
     "output_type": "stream",
     "text": [
      "Found\n"
     ]
    }
   ],
   "source": [
    "import sys\n",
    "\n",
    "numbers = [4, 6, 8, 2, 7, 5, 0]\n",
    "\n",
    "if 0 in numbers:\n",
    "    print(\"Found\")\n",
    "    #sys.exit(0)\n",
    "else:\n",
    "    print(\"Not found\")\n",
    "#sys.exit(1)"
   ]
  },
  {
   "cell_type": "markdown",
   "metadata": {},
   "source": [
    "### Sequential search\n",
    "\n",
    "sequential search: Locates a target value in a list by examining each element from start to finish. Used in index.\n"
   ]
  },
  {
   "cell_type": "code",
   "execution_count": null,
   "metadata": {},
   "outputs": [],
   "source": [
    "size = 10\n",
    "def index(value):\n",
    "    for i in range(0, size):\n",
    "        if my_list[i] == value:\n",
    "            return i\n",
    "    return -1   # not found\n"
   ]
  },
  {
   "cell_type": "markdown",
   "metadata": {},
   "source": [
    "### Binary search\n",
    "\n",
    "binary search: Locates a target value in a sorted list by successively eliminating half of the list from consideration.\n",
    "\n",
    "- For a list of size N, it eliminates ½ until 1 element remains.\n",
    "\tN, N/2, N/4, N/8, ..., 4, 2, 1\n",
    "\n",
    "    - How many divisions does it take?\n",
    "\n",
    "- Think of it from the other direction:\n",
    "    - How many times do I have to multiply by 2 to reach N?\n",
    "\t1, 2, 4, 8, ..., N/4, N/2, N\n",
    "    - Call this number of multiplications \"x\".\n",
    "\n",
    "\t2<sup>x</sup>\t= N\n",
    "\t\n",
    "\tx\t= log<sub>2</sub>N\n",
    "\n",
    "Binary search looks at a logarithmic number of elements\n"
   ]
  },
  {
   "cell_type": "markdown",
   "metadata": {},
   "source": [
    "## Sorting"
   ]
  },
  {
   "cell_type": "markdown",
   "metadata": {},
   "source": []
  }
 ],
 "metadata": {
  "kernelspec": {
   "display_name": "Python 3.10.4 64-bit",
   "language": "python",
   "name": "python3"
  },
  "language_info": {
   "codemirror_mode": {
    "name": "ipython",
    "version": 3
   },
   "file_extension": ".py",
   "mimetype": "text/x-python",
   "name": "python",
   "nbconvert_exporter": "python",
   "pygments_lexer": "ipython3",
   "version": "3.10.4"
  },
  "orig_nbformat": 4,
  "vscode": {
   "interpreter": {
    "hash": "aee8b7b246df8f9039afb4144a1f6fd8d2ca17a180786b69acc140d282b71a49"
   }
  }
 },
 "nbformat": 4,
 "nbformat_minor": 2
}
