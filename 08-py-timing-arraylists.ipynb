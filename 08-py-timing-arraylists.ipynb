{
 "cells": [
  {
   "cell_type": "markdown",
   "id": "fd9555e3",
   "metadata": {},
   "source": [
    "# Timing and Plotting"
   ]
  },
  {
   "cell_type": "markdown",
   "id": "21ddd51b",
   "metadata": {},
   "source": [
    "## 1. Timing"
   ]
  },
  {
   "cell_type": "markdown",
   "id": "d9d6d2c6",
   "metadata": {},
   "source": [
    "The [`time`](https://docs.python.org/3/library/time.html#module-time) module contains functions for obtaining and interpreting the current system time."
   ]
  },
  {
   "cell_type": "code",
   "execution_count": 30,
   "id": "459c985a",
   "metadata": {},
   "outputs": [
    {
     "name": "stdout",
     "output_type": "stream",
     "text": [
      "Seconds since epoch = 1657274841.554562\n"
     ]
    }
   ],
   "source": [
    "import time\n",
    "my_time = time.time()\n",
    "print(\"Seconds since epoch =\", my_time)\n",
    "#time.time() // (365 * 24 * 60 * 60) # years since epoch"
   ]
  },
  {
   "cell_type": "markdown",
   "id": "71a5d7ee",
   "metadata": {},
   "source": [
    "Several functions in the time module such as <code>gmtime()</code>, <code>asctime()</code> etc. either take <code>time.struct_time</code> object as an argument or return it."
   ]
  },
  {
   "cell_type": "markdown",
   "id": "e3b76ee6",
   "metadata": {},
   "source": [
    "The <code>time()</code> function returns the number of seconds passed since epoch. For Unix system, <code>January 1, 1970, 00:00:00</code> at UTC is epoch (the point where time begins). Monday is 0"
   ]
  },
  {
   "cell_type": "code",
   "execution_count": 47,
   "id": "5ab42f5f",
   "metadata": {
    "scrolled": false
   },
   "outputs": [
    {
     "data": {
      "text/plain": [
       "time.struct_time(tm_year=2022, tm_mon=7, tm_mday=7, tm_hour=13, tm_min=4, tm_sec=58, tm_wday=3, tm_yday=188, tm_isdst=0)"
      ]
     },
     "execution_count": 47,
     "metadata": {},
     "output_type": "execute_result"
    }
   ],
   "source": [
    "time.localtime(time.time())"
   ]
  },
  {
   "cell_type": "markdown",
   "id": "dc875b84",
   "metadata": {},
   "source": [
    "The <code>time.ctime()</code> function takes seconds passed since epoch as an argument and returns a string representing local time."
   ]
  },
  {
   "cell_type": "code",
   "execution_count": 31,
   "id": "d1d467e1",
   "metadata": {},
   "outputs": [
    {
     "name": "stdout",
     "output_type": "stream",
     "text": [
      "Local time: Fri Jul  8 13:07:47 2022\n"
     ]
    }
   ],
   "source": [
    "import time\n",
    "\n",
    "# seconds passed since epoch\n",
    "my_time = time.time()\n",
    "local_time = time.ctime(my_time)\n",
    "print(\"Local time:\", local_time)"
   ]
  },
  {
   "cell_type": "markdown",
   "id": "96c9c692",
   "metadata": {},
   "source": [
    "The <code>sleep()</code> function suspends (delays) execution of the current thread for the given number of seconds."
   ]
  },
  {
   "cell_type": "code",
   "execution_count": 32,
   "id": "d2cf070d",
   "metadata": {},
   "outputs": [
    {
     "name": "stdout",
     "output_type": "stream",
     "text": [
      "Print this!\n",
      "Then print this after 2 seconds\n"
     ]
    }
   ],
   "source": [
    "import time\n",
    "\n",
    "print(\"Print this!\")\n",
    "\n",
    "time.sleep(2)\n",
    "\n",
    "print(\"Then print this after 2 seconds\")"
   ]
  },
  {
   "cell_type": "markdown",
   "id": "36492487",
   "metadata": {},
   "source": [
    "### Building a timing utility"
   ]
  },
  {
   "cell_type": "markdown",
   "id": "eafbec13",
   "metadata": {},
   "source": [
    "Generally, we can build a utility function for timing the execution of a passed-in function:"
   ]
  },
  {
   "cell_type": "code",
   "execution_count": 33,
   "id": "be47b938",
   "metadata": {},
   "outputs": [],
   "source": [
    "def timeit(fn):\n",
    "    starttime = time.time()\n",
    "    \n",
    "    fn()\n",
    "    \n",
    "    endtime = time.time()\n",
    "    \n",
    "    return endtime - starttime"
   ]
  },
  {
   "cell_type": "code",
   "execution_count": 34,
   "id": "7a8cc9e2",
   "metadata": {
    "scrolled": true
   },
   "outputs": [
    {
     "name": "stdout",
     "output_type": "stream",
     "text": [
      "Maximum Sub Array Sum = 23\n",
      "Time used to execute the code: 0.00036978721618652344 seconds\n"
     ]
    }
   ],
   "source": [
    "import time\n",
    "\n",
    "starttime = time.time()\n",
    "\n",
    "#####\n",
    "    \n",
    "def fn1():\n",
    "    lst = [14, 8, -23, 4, 6, 10, -18, 5, 5, 11]\n",
    "    maxSum = lst[0]\n",
    "    sumz = 0\n",
    "    for i in range(0, len(lst)):\n",
    "        sumz += lst[i]\n",
    "        if sumz < 0:\n",
    "            sumz = 0\n",
    "        elif (maxSum < sumz):\n",
    "            maxSum = sumz\n",
    "    return maxSum\n",
    "\n",
    "print(\"Maximum Sub Array Sum =\", fn1())\n",
    "\n",
    "####\n",
    "\n",
    "endtime = time.time()\n",
    "    \n",
    "used_time = endtime - starttime\n",
    "\n",
    "print('Time used to execute the code:',used_time, 'seconds' )\n",
    "\n"
   ]
  },
  {
   "cell_type": "code",
   "execution_count": 35,
   "id": "466ac8a2",
   "metadata": {},
   "outputs": [
    {
     "name": "stdout",
     "output_type": "stream",
     "text": [
      "Maximum Sub Array Sum = 23\n",
      "Time used to execute the code: 0.0005450248718261719 seconds\n"
     ]
    }
   ],
   "source": [
    "import time\n",
    "starttime = time.time()\n",
    "\n",
    "#####\n",
    "    \n",
    "def fn2():\n",
    "    lst = [14, 8, -23, 4, 6, 10, -18, 5, 5, 11]\n",
    "    maxSum = lst[0]\n",
    "    for i in range(0, len(lst)):\n",
    "        sumz = 0\n",
    "        for j in range(i, len(lst)):\n",
    "            sumz += lst[j]\n",
    "            if sumz > maxSum:\n",
    "                maxSum = sumz\n",
    "    return maxSum\n",
    "\n",
    "print(\"Maximum Sub Array Sum =\", fn2())\n",
    "\n",
    "####\n",
    "\n",
    "endtime = time.time()\n",
    "    \n",
    "used_time = endtime - starttime\n",
    "\n",
    "print('Time used to execute the code:',used_time, 'seconds' )"
   ]
  },
  {
   "cell_type": "markdown",
   "id": "4583bdbd",
   "metadata": {},
   "source": [
    "### The `timeit` module\n",
    "\n",
    "The [`timeit`](https://docs.python.org/3/library/timeit.html) module is a built-in library for measuring the execution of code passed in as a string."
   ]
  },
  {
   "cell_type": "code",
   "execution_count": 53,
   "id": "abca1a29",
   "metadata": {},
   "outputs": [
    {
     "name": "stdout",
     "output_type": "stream",
     "text": [
      "Sum = 49995000\n"
     ]
    }
   ],
   "source": [
    "total = 0\n",
    "for number in range(1, 10000):\n",
    "    total += number\n",
    "print(\"Sum =\", total)"
   ]
  },
  {
   "cell_type": "code",
   "execution_count": 54,
   "id": "d8e815e1",
   "metadata": {
    "scrolled": true
   },
   "outputs": [
    {
     "data": {
      "text/plain": [
       "49995000"
      ]
     },
     "execution_count": 54,
     "metadata": {},
     "output_type": "execute_result"
    }
   ],
   "source": [
    "sum(range(10_000))"
   ]
  },
  {
   "cell_type": "code",
   "execution_count": 55,
   "id": "a84cf8ec",
   "metadata": {},
   "outputs": [
    {
     "data": {
      "text/plain": [
       "49995000"
      ]
     },
     "execution_count": 55,
     "metadata": {},
     "output_type": "execute_result"
    }
   ],
   "source": [
    "sum(range(1, 10000))"
   ]
  },
  {
   "cell_type": "code",
   "execution_count": 56,
   "id": "b6203819",
   "metadata": {},
   "outputs": [
    {
     "data": {
      "text/plain": [
       "0.1572331859933911"
      ]
     },
     "execution_count": 56,
     "metadata": {},
     "output_type": "execute_result"
    }
   ],
   "source": [
    "import timeit\n",
    "timeit.timeit('sum(range(10_000))', number=1000)"
   ]
  },
  {
   "cell_type": "markdown",
   "id": "5e93265d",
   "metadata": {},
   "source": [
    "It also supports passing in \"setup\" code that is not timed."
   ]
  },
  {
   "cell_type": "code",
   "execution_count": 57,
   "id": "c46ad4bd",
   "metadata": {},
   "outputs": [
    {
     "data": {
      "text/plain": [
       "0.15215791700029513"
      ]
     },
     "execution_count": 57,
     "metadata": {},
     "output_type": "execute_result"
    }
   ],
   "source": [
    "timeit.timeit('sum(r)', \n",
    "              setup='r = range(10_000)', \n",
    "              number=1000)"
   ]
  },
  {
   "cell_type": "markdown",
   "id": "09f92423",
   "metadata": {},
   "source": [
    "We can easily use this to gather timings for multiple input values:"
   ]
  },
  {
   "cell_type": "code",
   "execution_count": 58,
   "id": "b42a1463",
   "metadata": {},
   "outputs": [
    {
     "data": {
      "text/plain": [
       "[0.015224082999338862,\n",
       " 0.029374090998317115,\n",
       " 0.04232334699918283,\n",
       " 0.05501350700069452,\n",
       " 0.0679143740053405,\n",
       " 0.08323154200479621,\n",
       " 0.10028718900139211,\n",
       " 0.11414188300113892,\n",
       " 0.14012010699661914,\n",
       " 0.14760735400341218]"
      ]
     },
     "execution_count": 58,
     "metadata": {},
     "output_type": "execute_result"
    }
   ],
   "source": [
    "[timeit.timeit('sum(r)',\n",
    "               setup=f'r = range({n})',\n",
    "               number=1000)\n",
    " for n in range(1000, 11_000, 1000)]"
   ]
  },
  {
   "cell_type": "markdown",
   "id": "50ea6d0d",
   "metadata": {},
   "source": [
    "Sometimes we might want to make use of functions defined in our notebook in the timed/setup code passed to `timeit`. We need to use the `globals` argument for this:"
   ]
  },
  {
   "cell_type": "markdown",
   "id": "ff43e4ef",
   "metadata": {},
   "source": [
    "### Fibonacci sequence"
   ]
  },
  {
   "cell_type": "code",
   "execution_count": 26,
   "id": "0248d3ae",
   "metadata": {},
   "outputs": [],
   "source": [
    "# 0, 1, 1, 2, 3, 5, 8, 13, 21, 34, 55, 89, 144, 233, 377, 610, 987, 1597, 2584, 4181\n",
    "\n",
    "def fib(n):\n",
    "    if n == 0:\n",
    "        return 0\n",
    "    elif n == 1:\n",
    "        return 1\n",
    "    else:\n",
    "        return fib(n-1) + fib(n-2)"
   ]
  },
  {
   "cell_type": "code",
   "execution_count": 29,
   "id": "498dd6fb",
   "metadata": {},
   "outputs": [
    {
     "name": "stdout",
     "output_type": "stream",
     "text": [
      "[0, 1, 1, 2, 3, 5, 8, 13, 21, 34, 55, 89, 144, 233, 377, 610, 987, 1597, 2584, 4181]"
     ]
    }
   ],
   "source": [
    "# for 20 terms of the Fibonacci sequence\n",
    "print([fib(n) for n in range(20)], end=\"\")"
   ]
  },
  {
   "cell_type": "code",
   "execution_count": 61,
   "id": "de3d0b48",
   "metadata": {},
   "outputs": [
    {
     "data": {
      "text/plain": [
       "[0.00011875000200234354,\n",
       " 0.0002775149987428449,\n",
       " 0.0006013579986756667,\n",
       " 0.0010402400002931245,\n",
       " 0.002107328000420239,\n",
       " 0.0033637919987086207,\n",
       " 0.005822557999636047,\n",
       " 0.008553992003726307,\n",
       " 0.011955415000556968,\n",
       " 0.01947221500449814,\n",
       " 0.02961901000526268,\n",
       " 0.04811121999955503,\n",
       " 0.0794843750045402,\n",
       " 0.12637863399868365]"
      ]
     },
     "execution_count": 61,
     "metadata": {},
     "output_type": "execute_result"
    }
   ],
   "source": [
    "# \"globals()\" returns a dictionary of everything defined in this module; timeit needs it to access `fib`\n",
    "\n",
    "[timeit.timeit(f'fib({n})',\n",
    "               number=1000,\n",
    "               globals=globals()) \n",
    " for n in range(1, 15)]"
   ]
  },
  {
   "cell_type": "markdown",
   "id": "ab6aff05",
   "metadata": {},
   "source": [
    "### Magic timing commands\n",
    "\n",
    "There are also \"magic\" notebook commands that can be used to time code -- they are `%time`, `%timeit`, and `%%timeit`"
   ]
  },
  {
   "cell_type": "code",
   "execution_count": 62,
   "id": "39d3f8ae",
   "metadata": {},
   "outputs": [
    {
     "name": "stdout",
     "output_type": "stream",
     "text": [
      "CPU times: user 137 µs, sys: 0 ns, total: 137 µs\n",
      "Wall time: 139 µs\n"
     ]
    },
    {
     "data": {
      "text/plain": [
       "49995000"
      ]
     },
     "execution_count": 62,
     "metadata": {},
     "output_type": "execute_result"
    }
   ],
   "source": [
    "%time sum(range(10_000))"
   ]
  },
  {
   "cell_type": "code",
   "execution_count": 63,
   "id": "d8aa5fcd",
   "metadata": {},
   "outputs": [
    {
     "name": "stdout",
     "output_type": "stream",
     "text": [
      "145 µs ± 4.13 µs per loop (mean ± std. dev. of 7 runs, 1000 loops each)\n"
     ]
    }
   ],
   "source": [
    "%timeit -n 1000 sum(range(10_000))"
   ]
  },
  {
   "cell_type": "markdown",
   "id": "76d8a502",
   "metadata": {},
   "source": [
    "## 2. Plottings\n",
    "\n",
    "The [matplotlib library](https://matplotlib.org) supports the creation of all sorts of visualizations. We will use it for drawing simple 2-dimensional plots.\n",
    "\n",
    "The primary plotting function we will use is `matplotlib.pyplot.plot` ([full documentation here](https://matplotlib.org/api/_as_gen/matplotlib.pyplot.plot.html#matplotlib.pyplot.plot)), which, when passed two \"array-like\" objects of equal length, will interpret and plot their contents as x and y axis coordinates. We will generally use tuples, lists, and ranges as array-like objects. Note that generators are *not* considered array-like by matplotlib.\n",
    "\n",
    "Some examples (note that we use a semicolon after the call to `plot` to hide its return value):"
   ]
  },
  {
   "cell_type": "code",
   "execution_count": 36,
   "id": "b4783189",
   "metadata": {},
   "outputs": [],
   "source": [
    "import matplotlib.pyplot as plt\n"
   ]
  },
  {
   "cell_type": "code",
   "execution_count": 65,
   "id": "cf1f70bb",
   "metadata": {},
   "outputs": [
    {
     "data": {
      "image/png": "[encoded data removed]",
      "text/plain": [
       "<Figure size 720x432 with 1 Axes>"
      ]
     },
     "metadata": {
      "needs_background": "light"
     },
     "output_type": "display_data"
    }
   ],
   "source": [
    "plt.plot([1, 2, 3, 4, 5], [50, 20, 30, 10, 40]);"
   ]
  },
  {
   "cell_type": "markdown",
   "id": "ffb82a72",
   "metadata": {},
   "source": [
    "We can also provide an optional format string to `plot`, which controls marker, line-style, and color for the plot.\n",
    "\n",
    "Here's a shortened list of options copied from the [full documentation of `plot`](https://matplotlib.org/api/_as_gen/matplotlib.pyplot.plot.html#matplotlib.pyplot.plot):\n",
    "\n",
    "**Markers**\n",
    "\n",
    "  - `.` : point marker\n",
    "  - `o` : circle marker\n",
    "  - `s` : square marker\n",
    "  - `d` : diamond marker\n",
    "\n",
    "**Line-styles**\n",
    " \n",
    "  - `-` : solid line style\n",
    "  - `--` : dashed line style\n",
    "  - `:` : dotted line style\n",
    "\n",
    "**Colors**\n",
    "\n",
    "  - `k` : black\n",
    "  - `r` : red\n",
    "  - `g` : blue\n",
    "  - `b` : green\n",
    "  - `y` : yellow\n",
    "  - `c` : cyan\n",
    "  \n",
    "Here are the above plots with some color and styling (if we omit a line style no connecting line is drawn between data points):"
   ]
  },
  {
   "cell_type": "code",
   "execution_count": 66,
   "id": "d787967f",
   "metadata": {},
   "outputs": [
    {
     "data": {
      "image/png": "[encoded data removed]",
      "text/plain": [
       "<Figure size 720x432 with 1 Axes>"
      ]
     },
     "metadata": {
      "needs_background": "light"
     },
     "output_type": "display_data"
    }
   ],
   "source": [
    "plt.plot([1, 2, 3, 4, 5], [50, 20, 30, 10, 40], 'o--r');"
   ]
  },
  {
   "cell_type": "code",
   "execution_count": 67,
   "id": "7b886ec5",
   "metadata": {},
   "outputs": [
    {
     "data": {
      "image/png": "[encoded data removed]",
      "text/plain": [
       "<Figure size 720x432 with 1 Axes>"
      ]
     },
     "metadata": {
      "needs_background": "light"
     },
     "output_type": "display_data"
    }
   ],
   "source": [
    "xs = range(11)\n",
    "ys = [x*2 for x in xs]\n",
    "plt.plot(xs, ys, 'dg');"
   ]
  },
  {
   "cell_type": "markdown",
   "id": "b5ec80f9",
   "metadata": {},
   "source": [
    "## 3. Array Lists"
   ]
  },
  {
   "cell_type": "markdown",
   "id": "e412958e",
   "metadata": {},
   "source": [
    "### NumPy Package\n",
    "\n",
    "Instead of regular `range` objects, which only allow for integral start/stop/step values, we typically prefer to use the [numpy library](https://numpy.org)'s `arange` and `linspace` functions with matplotlib. `arange` is like `range`, except we can use floating point values for start/stop/step. `linspace` lets us specify start and stop values (both inclusive), and the number of values to return in that interval.\n",
    "\n",
    "Examples of `arange` and `linspace` calls (note that both functions return numpy arrays, which are iterable and can be passed to `plot`):\n",
    "\n",
    "We also use NumPy which is a general-purpose array-processing package. It provides a high-performance multidimensional array object, and tools for working with these arrays. It is the fundamental package for scientific computing with Python. It is open-source software. It contains various features including these important ones:\n",
    "\n",
    "- A powerful N-dimensional array object\n",
    "- Sophisticated (broadcasting) functions\n",
    "- Tools for integrating C/C++ and Fortran code\n",
    "- Useful linear algebra, Fourier transform, and random number capabilities\n",
    "\n"
   ]
  },
  {
   "cell_type": "code",
   "execution_count": 38,
   "id": "fa6ad0a0",
   "metadata": {},
   "outputs": [
    {
     "data": {
      "text/plain": [
       "array([0.5, 0.6, 0.7, 0.8, 0.9, 1. , 1.1, 1.2, 1.3, 1.4, 1.5, 1.6, 1.7,\n",
       "       1.8, 1.9, 2. , 2.1, 2.2, 2.3, 2.4])"
      ]
     },
     "execution_count": 38,
     "metadata": {},
     "output_type": "execute_result"
    }
   ],
   "source": [
    "import numpy as np\n",
    "\n",
    "np.arange(0.5, 2.5, 0.1)"
   ]
  },
  {
   "cell_type": "code",
   "execution_count": 4,
   "id": "777bb6af",
   "metadata": {},
   "outputs": [
    {
     "data": {
      "text/plain": [
       "array([10.  , 10.25, 10.5 , 10.75, 11.  , 11.25, 11.5 , 11.75, 12.  ,\n",
       "       12.25, 12.5 , 12.75, 13.  , 13.25, 13.5 , 13.75, 14.  , 14.25,\n",
       "       14.5 , 14.75, 15.  , 15.25, 15.5 , 15.75, 16.  , 16.25, 16.5 ,\n",
       "       16.75, 17.  , 17.25, 17.5 , 17.75, 18.  , 18.25, 18.5 , 18.75,\n",
       "       19.  , 19.25, 19.5 , 19.75, 20.  ])"
      ]
     },
     "execution_count": 4,
     "metadata": {},
     "output_type": "execute_result"
    }
   ],
   "source": [
    "# from 10 to 20 inclusive get 41 values\n",
    "\n",
    "np.linspace(10, 20, 41)"
   ]
  },
  {
   "cell_type": "code",
   "execution_count": 10,
   "id": "80039146",
   "metadata": {
    "scrolled": true
   },
   "outputs": [
    {
     "data": {
      "text/plain": [
       "array([     1,   2041,   4082,   6123,   8164,  10204,  12245,  14286,\n",
       "        16327,  18368,  20408,  22449,  24490,  26531,  28572,  30612,\n",
       "        32653,  34694,  36735,  38776,  40816,  42857,  44898,  46939,\n",
       "        48980,  51020,  53061,  55102,  57143,  59184,  61224,  63265,\n",
       "        65306,  67347,  69388,  71428,  73469,  75510,  77551,  79592,\n",
       "        81632,  83673,  85714,  87755,  89796,  91836,  93877,  95918,\n",
       "        97959, 100000])"
      ]
     },
     "execution_count": 10,
     "metadata": {},
     "output_type": "execute_result"
    }
   ],
   "source": [
    "np.linspace(1, 100000, 50, dtype=int) # we can specify the data type to coerce values into integers"
   ]
  },
  {
   "cell_type": "markdown",
   "id": "1c74f8fa",
   "metadata": {},
   "source": [
    "`plot` can be called multiple times in the same cell to draw multiple lines in the same chart. Below we use this facility together with `linspace` and a handful of list comprehensions to plot some common runtime complexity bounding functions (more on that soon) over a small interval: "
   ]
  },
  {
   "cell_type": "code",
   "execution_count": 13,
   "id": "60bb54a0",
   "metadata": {},
   "outputs": [
    {
     "data": {
      "image/png": "[encoded data removed]",
      "text/plain": [
       "<Figure size 432x288 with 1 Axes>"
      ]
     },
     "metadata": {
      "needs_background": "light"
     },
     "output_type": "display_data"
    }
   ],
   "source": [
    "import math\n",
    "\n",
    "count = 100\n",
    "xs = np.linspace(0.1, 4, count)\n",
    "ys_const        = [1] * count\n",
    "ys_log          = [math.log(x) for x in xs]\n",
    "ys_linear       = [x for x in xs]\n",
    "ys_linearithmic = [x * math.log(x) for x in xs]\n",
    "ys_quadratic    = [x**2 for x in xs]\n",
    "ys_exponential  = [2**x for x in xs]\n",
    "\n",
    "plt.plot(xs, ys_const, 'c')\n",
    "plt.plot(xs, ys_log, 'r')\n",
    "plt.plot(xs, ys_linear, 'b')\n",
    "plt.plot(xs, ys_linearithmic, 'g')\n",
    "plt.plot(xs, ys_quadratic, 'y');\n",
    "plt.plot(xs, ys_exponential, 'm');"
   ]
  },
  {
   "cell_type": "markdown",
   "id": "46870f84",
   "metadata": {},
   "source": [
    "### Plotting timings"
   ]
  },
  {
   "cell_type": "markdown",
   "id": "f9445ad4",
   "metadata": {},
   "source": [
    "Plotting timing data collected from functions may help give us a sense of how their runtimes scale with increasing input sizes."
   ]
  },
  {
   "cell_type": "code",
   "execution_count": 37,
   "id": "aaf3bb9b",
   "metadata": {},
   "outputs": [
    {
     "data": {
      "image/png": "[encoded data removed]",
      "text/plain": [
       "<Figure size 720x432 with 1 Axes>"
      ]
     },
     "metadata": {
      "needs_background": "light"
     },
     "output_type": "display_data"
    }
   ],
   "source": [
    "# runtimes for sum for increasing sizes of input\n",
    "\n",
    "import timeit\n",
    "\n",
    "ns = np.linspace(10, 10_000, 50, dtype=int)\n",
    "ts = [timeit.timeit(f'sum(range({n}))', number=100)\n",
    "      for n in ns]\n",
    "\n",
    "plt.plot(ns, ts, 'or');"
   ]
  },
  {
   "cell_type": "markdown",
   "id": "ea81ec10",
   "metadata": {},
   "source": [
    "Clearly, the runtime of `sum` is directly proportional to the number of values it operates on. \n",
    "\n",
    "If we assume a linear relationship, we can compute the average slope between adjacent data points to come up with an line of approximate fit that may help us predict the runtime of `sum`."
   ]
  },
  {
   "cell_type": "code",
   "execution_count": 23,
   "id": "f2113d83",
   "metadata": {},
   "outputs": [
    {
     "data": {
      "text/plain": [
       "1.338174756126575e-06"
      ]
     },
     "execution_count": 23,
     "metadata": {},
     "output_type": "execute_result"
    }
   ],
   "source": [
    "total = 0\n",
    "\n",
    "for i in range(len(ns)-1):\n",
    "    total += (ts[i+1] - ts[i]) / (ns[i+1] - ns[i]) # recall: slope = rise / run\n",
    "    \n",
    "avg_slope = total / (len(ns)-1)\n",
    "\n",
    "avg_slope"
   ]
  },
  {
   "cell_type": "markdown",
   "id": "2081b58d",
   "metadata": {},
   "source": [
    "We can also use the statistics module to help us compute the mean:"
   ]
  },
  {
   "cell_type": "code",
   "execution_count": 24,
   "id": "4c6bbb0e",
   "metadata": {},
   "outputs": [
    {
     "data": {
      "text/plain": [
       "1.3381747561265745e-06"
      ]
     },
     "execution_count": 24,
     "metadata": {},
     "output_type": "execute_result"
    }
   ],
   "source": [
    "import statistics\n",
    "avg_slope = statistics.mean((ts[i+1] - ts[i]) / (ns[i+1] - ns[i]) for i in range(len(ns)-1))\n",
    "avg_slope"
   ]
  },
  {
   "cell_type": "markdown",
   "id": "9b711ddc",
   "metadata": {},
   "source": [
    "## Exercise 8"
   ]
  },
  {
   "cell_type": "code",
   "execution_count": null,
   "id": "aa1cb7cb",
   "metadata": {},
   "outputs": [],
   "source": []
  }
 ],
 "metadata": {
  "kernelspec": {
   "display_name": "Python 3.10.4 64-bit",
   "language": "python",
   "name": "python3"
  },
  "language_info": {
   "codemirror_mode": {
    "name": "ipython",
    "version": 3
   },
   "file_extension": ".py",
   "mimetype": "text/x-python",
   "name": "python",
   "nbconvert_exporter": "python",
   "pygments_lexer": "ipython3",
   "version": "3.10.4"
  },
  "vscode": {
   "interpreter": {
    "hash": "aee8b7b246df8f9039afb4144a1f6fd8d2ca17a180786b69acc140d282b71a49"
   }
  }
 },
 "nbformat": 4,
 "nbformat_minor": 5
}
