{
 "cells": [
  {
   "cell_type": "markdown",
   "id": "83f0c9c2",
   "metadata": {},
   "source": [
    "## Search and Sorting"
   ]
  },
  {
   "cell_type": "code",
   "execution_count": 8,
   "id": "cd1d7db6",
   "metadata": {},
   "outputs": [
    {
     "name": "stdout",
     "output_type": "stream",
     "text": [
      "Oh YES 42 is in the list\n"
     ]
    }
   ],
   "source": [
    "# Linear\n",
    "#  index    0  1  2   3   4   5   6   7   8   9  10  11  12  13  14  15   16\n",
    "my_list = [-4, 2, 7, 10, 15, 20, 22, 25, 30, 36, 42, 50, 56, 68, 85, 92, 103]\n",
    "\n",
    "def linearSearch(value):\n",
    "    if value in my_list:\n",
    "        print(\"Oh YES\", value , \"is in the list\")\n",
    "    else:\n",
    "        print(\"Hello NO\")\n",
    "        \n",
    "linearSearch(42)"
   ]
  },
  {
   "cell_type": "code",
   "execution_count": 9,
   "id": "e71c2048",
   "metadata": {},
   "outputs": [
    {
     "data": {
      "text/plain": [
       "10"
      ]
     },
     "execution_count": 9,
     "metadata": {},
     "output_type": "execute_result"
    }
   ],
   "source": [
    "# Sequential Search\n",
    "\n",
    "def sequentialSearch(value):\n",
    "    for i in range(0, len(my_list)):\n",
    "        if my_list[i] == value:\n",
    "            return i # returns the index of where value is located\n",
    "    return -1   # not found\n",
    "\n",
    "sequentialSearch(42)"
   ]
  },
  {
   "cell_type": "code",
   "execution_count": 14,
   "id": "1891f9e3",
   "metadata": {},
   "outputs": [
    {
     "data": {
      "text/plain": [
       "-9"
      ]
     },
     "execution_count": 14,
     "metadata": {},
     "output_type": "execute_result"
    }
   ],
   "source": [
    "# binary search\n",
    "\n",
    "# condition - we have a sorted list\n",
    "\n",
    "def binary_search(mylist, value):\n",
    "    min = 0\n",
    "    max = len(mylist) - 1\n",
    "\n",
    "    while min <= max:\n",
    "        mid = (min + max) // 2\n",
    "        if mylist[mid] < value:\n",
    "            min = mid + 1\n",
    "        elif mylist[mid] > value:\n",
    "            max = mid - 1\n",
    "        else:\n",
    "            return mid   # target found\n",
    "\n",
    "    return -(min)    # target not found\n",
    "binary_search(my_list, 33)"
   ]
  },
  {
   "cell_type": "code",
   "execution_count": 22,
   "id": "ed1d84e6",
   "metadata": {},
   "outputs": [
    {
     "name": "stdout",
     "output_type": "stream",
     "text": [
      "index: 11 value = 50\n"
     ]
    }
   ],
   "source": [
    "def binary_search(mylist, value, start, stop):\n",
    "    min = start\n",
    "    max = stop - 1\n",
    "\n",
    "    while min <= max:\n",
    "        mid = (min + max) // 2\n",
    "        if mylist[mid] < value:\n",
    "            min = mid + 1\n",
    "        elif mylist[mid] > value:\n",
    "            max = mid - 1\n",
    "        else:\n",
    "            return mid   # target found\n",
    "\n",
    "    return -(min)    # target not found\n",
    "\n",
    "index1 = binary_search(my_list, 50, 7, 16)\n",
    "print(\"index:\",index1, \"value =\",my_list[index1])\n"
   ]
  },
  {
   "cell_type": "markdown",
   "id": "4149e30a",
   "metadata": {},
   "source": [
    "## Sorting Algorithms"
   ]
  },
  {
   "cell_type": "markdown",
   "id": "d70a5a2f",
   "metadata": {},
   "source": [
    "### Bogo Sort"
   ]
  },
  {
   "cell_type": "code",
   "execution_count": 28,
   "id": "3b54f711",
   "metadata": {},
   "outputs": [
    {
     "name": "stdout",
     "output_type": "stream",
     "text": [
      "[-9, -4, 10, 12, 18, 22, 27, 30, 36, 50, 90]\n"
     ]
    }
   ],
   "source": [
    "from random import random\n",
    "\n",
    "def bogo_sort(a):\n",
    "    while (not is_sorted(a)):\n",
    "        shuffle(a)\n",
    "\n",
    "    \n",
    "def is_sorted(a):\n",
    "    for i in range(0, len(a) - 1):\n",
    "        if (a[i] > a[i + 1]):\n",
    "            return False\n",
    "    return True\n",
    "\n",
    "\n",
    "def shuffle(a):\n",
    "    for i in range(0, len(a) - 1):\n",
    "        # pick a random index in [i+1, a.length-1]\n",
    "        range1 = len(a) - (i + 1)\n",
    "        j = int((random() * range1) + (i + 1))\n",
    "        swap(a, i, j)\n",
    "    \n",
    "def swap(a, i, j):\n",
    "    if (i != j):\n",
    "        temp = a[i]\n",
    "        a[i] = a[j]\n",
    "        a[j] = temp\n",
    "\n",
    "b = [22, 18, 12, -4, 27, 30, 36, 50, -9, 90, 10]\n",
    "\n",
    "bogo_sort(b)\n",
    "\n",
    "print(b)"
   ]
  },
  {
   "cell_type": "code",
   "execution_count": 35,
   "id": "ae35c535",
   "metadata": {},
   "outputs": [
    {
     "name": "stdout",
     "output_type": "stream",
     "text": [
      "[-9, -4, -1, 10, 12, 18, 22, 27, 30, 36, 50, 90]\n"
     ]
    }
   ],
   "source": [
    "# selection sort\n",
    "\n",
    "def selection_sort(a):\n",
    "    for i in range(0, len(a) - 1):\n",
    "        # find index of smallest remaining value\n",
    "        min = i\n",
    "        for j in range(i + 1, len(a)):\n",
    "            if (a[j] < a[min]):\n",
    "                min = j\n",
    "        # swap smallest value its proper place, a[i]\n",
    "        swap(a, i, min)\n",
    "        \n",
    "c = [22, 18, 12, -4, 27, 30, 36, 50, -9, 90, 10, -1]\n",
    "selection_sort(c)\n",
    "print(c)"
   ]
  },
  {
   "cell_type": "code",
   "execution_count": 34,
   "id": "bed97f9f",
   "metadata": {},
   "outputs": [
    {
     "name": "stdout",
     "output_type": "stream",
     "text": [
      "[-9, -4, -1, 10, 12, 18, 22, 27, 30, 36, 50, 90]\n"
     ]
    }
   ],
   "source": [
    "# merge sort\n",
    "def merge_sort(a):\n",
    "    if len(a) >= 2:\n",
    "        # split list into two halves\n",
    "        left  = a[0: len(a)//2]\n",
    "        right = a[len(a)//2: len(a)]\n",
    "\n",
    "        # sort the two halves\n",
    "        merge_sort(left)\n",
    "        merge_sort(right)\n",
    "\n",
    "        # merge the sorted halves into a sorted whole\n",
    "        merge(a, left, right)\n",
    "\n",
    "def merge(result, left, right):\n",
    "    i1 = 0   # index into left list\n",
    "    i2 = 0   # index into right list\n",
    "\n",
    "    for i in range(0, len(result)):\n",
    "        if i2 >= len(right) or (i1 < len(left) and left[i1] <= right[i2]):\n",
    "            result[i] = left[i1]    # take from left\n",
    "            i1 += 1\n",
    "        else:\n",
    "            result[i] = right[i2]   # take from right\n",
    "            i2 += 1\n",
    "\n",
    "d = [22, 18, 12, -4, 27, 30, 36, 50, -9, 90, 10, -1]\n",
    "merge_sort(d)\n",
    "print(d)"
   ]
  },
  {
   "cell_type": "markdown",
   "id": "6762ef79",
   "metadata": {},
   "source": [
    "### Reading assignment Stacks, Queue, Map, BST, AVL"
   ]
  },
  {
   "cell_type": "code",
   "execution_count": null,
   "id": "46f9f8d1",
   "metadata": {},
   "outputs": [],
   "source": []
  }
 ],
 "metadata": {
  "kernelspec": {
   "display_name": "Python 3 (ipykernel)",
   "language": "python",
   "name": "python3"
  },
  "language_info": {
   "codemirror_mode": {
    "name": "ipython",
    "version": 3
   },
   "file_extension": ".py",
   "mimetype": "text/x-python",
   "name": "python",
   "nbconvert_exporter": "python",
   "pygments_lexer": "ipython3",
   "version": "3.9.7"
  }
 },
 "nbformat": 4,
 "nbformat_minor": 5
}
